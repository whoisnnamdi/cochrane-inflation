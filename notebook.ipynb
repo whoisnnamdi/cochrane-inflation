{
 "cells": [
  {
   "cell_type": "code",
   "execution_count": 1,
   "metadata": {},
   "outputs": [],
   "source": [
    "import numpy as np\n",
    "import pandas as pd\n",
    "import matplotlib.pyplot as plt"
   ]
  },
  {
   "cell_type": "code",
   "execution_count": 28,
   "metadata": {},
   "outputs": [],
   "source": [
    "def x(sigma, int_rate, r, pi_e):\n",
    "    \"\"\"\n",
    "    Calculate output gap\n",
    "    \"\"\"\n",
    "    return - sigma * (int_rate - r - pi_e)\n",
    "    \n",
    "def pi_exp(pi_lag, model=\"adaptive\"):\n",
    "    \"\"\"\n",
    "    Calculate expected inflation\n",
    "\n",
    "    TODO: Implement rational expectations\n",
    "    \"\"\"\n",
    "    if model == \"adaptive\":\n",
    "        return pi_lag[-1]\n",
    "\n",
    "def pi(pi_e, kappa, x):\n",
    "    \"\"\"\n",
    "    Calculate inflation\n",
    "    \"\"\"\n",
    "    return pi_e + kappa * x\n",
    "\n",
    "def u(output_gap):\n",
    "    return 4 - 0.5 * output_gap\n",
    "\n",
    "def simulate(\n",
    "        output_gap_init=[0], \n",
    "        inflation_init=[5.5], \n",
    "        policy_path=[0, 1.9, 2.8, 2.8, 2.4, 2.4, 2.4, 2.4, 2.4, 2.4, 2.4, 2.4], \n",
    "        nat_rate=2, \n",
    "        sigma=0.71, \n",
    "        kappa=0.55, \n",
    "        periods=10,\n",
    "        model=\"adaptive\"\n",
    "    ):\n",
    "    \"\"\"\n",
    "    Simulate output gap, unemployment, and inflation using supplied policy path.\n",
    "\n",
    "    Default parameters correspond to Cochrane's adaptive expectations model.\n",
    "    \"\"\"\n",
    "    output_gap = output_gap_init.copy()\n",
    "    inflation = inflation_init.copy()\n",
    "    inflation_e = inflation_init.copy()\n",
    "    interest_rate = policy_path.copy()\n",
    "    r = nat_rate\n",
    "    sigma = sigma\n",
    "    kappa = kappa\n",
    "    model = model\n",
    "    T = periods\n",
    "\n",
    "    for t in range(1, T):\n",
    "        inflation_e.append(pi_exp(\n",
    "            inflation, \n",
    "            model\n",
    "        ))\n",
    "\n",
    "        output_gap.append(x(\n",
    "            sigma, \n",
    "            interest_rate[t], \n",
    "            r, \n",
    "            inflation_e[-1]\n",
    "        ))\n",
    "\n",
    "        inflation.append(pi(\n",
    "            inflation_e[-1], \n",
    "            kappa, \n",
    "            output_gap[t]\n",
    "        ))\n",
    "\n",
    "    unemployment = [u(gap) for gap in output_gap]\n",
    "\n",
    "    data = pd.DataFrame({\n",
    "        \"year\": [2021 + i for i in range(T)],\n",
    "        \"output_gap\": output_gap,\n",
    "        \"inflation\": inflation,\n",
    "        \"unemployment\": unemployment,\n",
    "        \"fed_funds\": interest_rate[:len(output_gap)]\n",
    "    })\n",
    "\n",
    "    print(data)\n",
    "\n",
    "    data.plot(\n",
    "        x=\"year\", \n",
    "        y=[\"fed_funds\", \"inflation\", \"unemployment\"], \n",
    "        label=[\"Fed funds\", \"Inflation\", \"Unemployment\"], \n",
    "        ylim=(-2, 12)\n",
    "    )\n",
    "    \n",
    "    plt.show()\n",
    "\n",
    "    return"
   ]
  },
  {
   "cell_type": "code",
   "execution_count": 29,
   "metadata": {},
   "outputs": [
    {
     "name": "stdout",
     "output_type": "stream",
     "text": [
      "   year  output_gap  inflation  unemployment  fed_funds\n",
      "0  2021    0.000000   5.500000      4.000000        0.0\n",
      "1  2022    3.976000   7.686800      2.012000        1.9\n",
      "2  2023    4.889628  10.376095      1.555186        2.8\n",
      "3  2024    6.799028  14.115561      0.600486        2.8\n",
      "4  2025    9.738048  19.471487     -0.869024        2.4\n",
      "5  2026   13.540756  26.918903     -2.770378        2.4\n",
      "6  2027   18.828421  37.274534     -5.414210        2.4\n",
      "7  2028   26.180919  51.674040     -9.090460        2.4\n",
      "8  2029   36.404568  71.696553    -14.202284        2.4\n",
      "9  2030   50.620552  99.537856    -21.310276        2.4\n"
     ]
    },
    {
     "data": {
      "image/png": "[encoded data removed]",
      "text/plain": [
       "<Figure size 432x288 with 1 Axes>"
      ]
     },
     "metadata": {
      "needs_background": "light"
     },
     "output_type": "display_data"
    }
   ],
   "source": [
    "simulate()"
   ]
  }
 ],
 "metadata": {
  "interpreter": {
   "hash": "c69505de08c82724449d276305ed5d26b3d64b7815d0b4ea1b7a0beb36c5477f"
  },
  "kernelspec": {
   "display_name": "Python 3.9.7 ('base')",
   "language": "python",
   "name": "python3"
  },
  "language_info": {
   "codemirror_mode": {
    "name": "ipython",
    "version": 3
   },
   "file_extension": ".py",
   "mimetype": "text/x-python",
   "name": "python",
   "nbconvert_exporter": "python",
   "pygments_lexer": "ipython3",
   "version": "3.9.7"
  },
  "orig_nbformat": 4
 },
 "nbformat": 4,
 "nbformat_minor": 2
}
